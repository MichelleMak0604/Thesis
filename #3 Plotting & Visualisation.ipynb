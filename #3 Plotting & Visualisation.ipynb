{
 "cells": [
  {
   "cell_type": "markdown",
   "metadata": {},
   "source": [
    "# Plotting & visualising\n",
    "<br>\n",
    "<br>\n",
    "<br>"
   ]
  },
  {
   "cell_type": "code",
   "execution_count": 6,
   "metadata": {},
   "outputs": [],
   "source": [
    "import pandas as pd\n",
    "import seaborn as sns\n",
    "import numpy as np\n",
    "import os\n",
    "import matplotlib.pyplot as plt #from matplotlib import pyplot as plt\n",
    "import tikzplotlib as tikz\n",
    "\n",
    "\n",
    "#set settings so we can see every row and column\n",
    "pd.set_option('display.max_columns', None)\n",
    "pd.set_option('display.max_rows', None)"
   ]
  },
  {
   "cell_type": "code",
   "execution_count": 3,
   "metadata": {},
   "outputs": [],
   "source": [
    "import pandas as pd\n",
    "#change my own working directory for importing the files\n",
    "import os\n",
    "os.getcwd()\n",
    "os.chdir('/Users/michellemak/Google Drive/Tilburg University/Master/Master Thesis/Code/Data/Raw data/')\n",
    "os.getcwd()\n",
    "\n",
    "#set settings so we can see every row and column\n",
    "pd.set_option('display.max_columns', None)\n",
    "pd.set_option('display.max_rows', None)\n",
    "\n",
    "#read the dataset and show the first few columns\n",
    "waves = pd.read_csv(\"waves_cleaned3003.csv\", low_memory=False)\n"
   ]
  },
  {
   "cell_type": "code",
   "execution_count": 4,
   "metadata": {},
   "outputs": [
    {
     "data": {
      "text/html": [
       "<div>\n",
       "<style scoped>\n",
       "    .dataframe tbody tr th:only-of-type {\n",
       "        vertical-align: middle;\n",
       "    }\n",
       "\n",
       "    .dataframe tbody tr th {\n",
       "        vertical-align: top;\n",
       "    }\n",
       "\n",
       "    .dataframe thead th {\n",
       "        text-align: right;\n",
       "    }\n",
       "</style>\n",
       "<table border=\"1\" class=\"dataframe\">\n",
       "  <thead>\n",
       "    <tr style=\"text-align: right;\">\n",
       "      <th></th>\n",
       "      <th>Geslacht</th>\n",
       "      <th>Leeftijd</th>\n",
       "      <th>Woonplaats</th>\n",
       "      <th>Covid_result</th>\n",
       "      <th>Huishouden</th>\n",
       "      <th>ThuiswonendeKinderen_0-3</th>\n",
       "      <th>ThuiswonendeKinderen_4-12</th>\n",
       "      <th>ThuiswonendeKinderen_13-17</th>\n",
       "      <th>ThuiswonendeKinderen_18+</th>\n",
       "      <th>HoogsteOpleiding</th>\n",
       "      <th>CruciaalBeroep</th>\n",
       "      <th>DirectContact</th>\n",
       "      <th>DirectContactMetCovid</th>\n",
       "      <th>NormaleWeek_Thuiswerken</th>\n",
       "      <th>NormaleWeek_Buitenshuiswerken</th>\n",
       "      <th>Normaleweek_Nietwerken</th>\n",
       "      <th>CoronaWeek_Thuiswerken</th>\n",
       "      <th>CoronaWeek_Buitenshuiswerk</th>\n",
       "      <th>CoronaWeek_Nietwerken</th>\n",
       "      <th>HoeveelPersonenContact</th>\n",
       "      <th>Klacht_Neusverkoudheid</th>\n",
       "      <th>Klacht_Keelpijn</th>\n",
       "      <th>Klacht_DrogeHoest</th>\n",
       "      <th>Klacht_Vermoedheid</th>\n",
       "      <th>Klacht_SlijmHoest</th>\n",
       "      <th>Klacht_SpierGewrichtspijn</th>\n",
       "      <th>Klacht_Hoofdpijn</th>\n",
       "      <th>Klacht_Koorts</th>\n",
       "      <th>Klacht_Kortademig</th>\n",
       "      <th>Klacht_Diarree</th>\n",
       "      <th>Klacht_Misselijkheid</th>\n",
       "      <th>Klacht_Overgeven</th>\n",
       "      <th>Klacht_Rillingen</th>\n",
       "      <th>Klacht_Niezen</th>\n",
       "      <th>Klacht_Huiduitslag</th>\n",
       "      <th>Klacht_Verward</th>\n",
       "      <th>Klacht_VerslapteSpieren</th>\n",
       "      <th>Klacht_GeenReukSmaak</th>\n",
       "      <th>RIVM_HandenWassen</th>\n",
       "      <th>RIVM_GrondigHandenWassen</th>\n",
       "      <th>RIVM_GeenHandenSchudden</th>\n",
       "      <th>RIVM_PapierZakdoek</th>\n",
       "      <th>RIVM_Elleboog</th>\n",
       "      <th>RIVM_ThuisblijvenSymptomen</th>\n",
       "      <th>RIVM_Thuiswerken</th>\n",
       "      <th>RIVM_1.5mAfstand</th>\n",
       "      <th>RIVM_VermijdenGroepen</th>\n",
       "      <th>Extra_Niets</th>\n",
       "      <th>Extra_OpenbaarVermijden</th>\n",
       "      <th>Extra_WinkelsVermijden</th>\n",
       "      <th>Extra_Schoonmaak</th>\n",
       "      <th>Extra_DesinfectieGebruik</th>\n",
       "      <th>Extra_DesinfectieGelDragen</th>\n",
       "      <th>Extra_Gezichtsmasker</th>\n",
       "      <th>Extra_Supplementen</th>\n",
       "      <th>Extra_ContactMinimaliseren</th>\n",
       "      <th>Extra_GezondEten</th>\n",
       "    </tr>\n",
       "  </thead>\n",
       "  <tbody>\n",
       "    <tr>\n",
       "      <th>0</th>\n",
       "      <td>0</td>\n",
       "      <td>46.0</td>\n",
       "      <td>1</td>\n",
       "      <td>1</td>\n",
       "      <td>4.0</td>\n",
       "      <td>0.0</td>\n",
       "      <td>0.0</td>\n",
       "      <td>2.0</td>\n",
       "      <td>1.0</td>\n",
       "      <td>5.0</td>\n",
       "      <td>1.0</td>\n",
       "      <td>2.0</td>\n",
       "      <td>2.0</td>\n",
       "      <td>1.0</td>\n",
       "      <td>4.0</td>\n",
       "      <td>2.0</td>\n",
       "      <td>5.0</td>\n",
       "      <td>0.0</td>\n",
       "      <td>2.0</td>\n",
       "      <td>0.0</td>\n",
       "      <td>1.0</td>\n",
       "      <td>1.0</td>\n",
       "      <td>5.0</td>\n",
       "      <td>5.0</td>\n",
       "      <td>3.0</td>\n",
       "      <td>3.0</td>\n",
       "      <td>2.0</td>\n",
       "      <td>5.0</td>\n",
       "      <td>4.0</td>\n",
       "      <td>1.0</td>\n",
       "      <td>1.0</td>\n",
       "      <td>1.0</td>\n",
       "      <td>5.0</td>\n",
       "      <td>2.0</td>\n",
       "      <td>1.0</td>\n",
       "      <td>1.0</td>\n",
       "      <td>2.0</td>\n",
       "      <td>5.0</td>\n",
       "      <td>2.0</td>\n",
       "      <td>2.0</td>\n",
       "      <td>1.0</td>\n",
       "      <td>1.0</td>\n",
       "      <td>1.0</td>\n",
       "      <td>1.0</td>\n",
       "      <td>1.0</td>\n",
       "      <td>2.0</td>\n",
       "      <td>1.0</td>\n",
       "      <td>0.0</td>\n",
       "      <td>1.0</td>\n",
       "      <td>0.0</td>\n",
       "      <td>0.0</td>\n",
       "      <td>0.0</td>\n",
       "      <td>0.0</td>\n",
       "      <td>0.0</td>\n",
       "      <td>0.0</td>\n",
       "      <td>1.0</td>\n",
       "      <td>0.0</td>\n",
       "    </tr>\n",
       "    <tr>\n",
       "      <th>1</th>\n",
       "      <td>1</td>\n",
       "      <td>35.0</td>\n",
       "      <td>467</td>\n",
       "      <td>1</td>\n",
       "      <td>4.0</td>\n",
       "      <td>0.0</td>\n",
       "      <td>2.0</td>\n",
       "      <td>0.0</td>\n",
       "      <td>0.0</td>\n",
       "      <td>4.0</td>\n",
       "      <td>5.0</td>\n",
       "      <td>2.0</td>\n",
       "      <td>2.0</td>\n",
       "      <td>0.0</td>\n",
       "      <td>5.0</td>\n",
       "      <td>2.0</td>\n",
       "      <td>0.0</td>\n",
       "      <td>5.0</td>\n",
       "      <td>2.0</td>\n",
       "      <td>30.0</td>\n",
       "      <td>1.0</td>\n",
       "      <td>1.0</td>\n",
       "      <td>2.0</td>\n",
       "      <td>1.0</td>\n",
       "      <td>2.0</td>\n",
       "      <td>1.0</td>\n",
       "      <td>1.0</td>\n",
       "      <td>1.0</td>\n",
       "      <td>1.0</td>\n",
       "      <td>1.0</td>\n",
       "      <td>1.0</td>\n",
       "      <td>1.0</td>\n",
       "      <td>1.0</td>\n",
       "      <td>1.0</td>\n",
       "      <td>4.0</td>\n",
       "      <td>1.0</td>\n",
       "      <td>1.0</td>\n",
       "      <td>5.0</td>\n",
       "      <td>1.0</td>\n",
       "      <td>1.0</td>\n",
       "      <td>1.0</td>\n",
       "      <td>1.0</td>\n",
       "      <td>4.0</td>\n",
       "      <td>4.0</td>\n",
       "      <td>6.0</td>\n",
       "      <td>2.0</td>\n",
       "      <td>4.0</td>\n",
       "      <td>0.0</td>\n",
       "      <td>0.0</td>\n",
       "      <td>0.0</td>\n",
       "      <td>0.0</td>\n",
       "      <td>0.0</td>\n",
       "      <td>0.0</td>\n",
       "      <td>0.0</td>\n",
       "      <td>0.0</td>\n",
       "      <td>0.0</td>\n",
       "      <td>0.0</td>\n",
       "    </tr>\n",
       "    <tr>\n",
       "      <th>2</th>\n",
       "      <td>1</td>\n",
       "      <td>65.0</td>\n",
       "      <td>1104</td>\n",
       "      <td>1</td>\n",
       "      <td>3.0</td>\n",
       "      <td>0.0</td>\n",
       "      <td>0.0</td>\n",
       "      <td>0.0</td>\n",
       "      <td>0.0</td>\n",
       "      <td>5.0</td>\n",
       "      <td>1.0</td>\n",
       "      <td>2.0</td>\n",
       "      <td>2.0</td>\n",
       "      <td>0.0</td>\n",
       "      <td>0.0</td>\n",
       "      <td>5.0</td>\n",
       "      <td>0.0</td>\n",
       "      <td>0.0</td>\n",
       "      <td>5.0</td>\n",
       "      <td>0.0</td>\n",
       "      <td>2.0</td>\n",
       "      <td>1.0</td>\n",
       "      <td>2.0</td>\n",
       "      <td>1.0</td>\n",
       "      <td>2.0</td>\n",
       "      <td>1.0</td>\n",
       "      <td>1.0</td>\n",
       "      <td>1.0</td>\n",
       "      <td>2.0</td>\n",
       "      <td>1.0</td>\n",
       "      <td>1.0</td>\n",
       "      <td>1.0</td>\n",
       "      <td>1.0</td>\n",
       "      <td>2.0</td>\n",
       "      <td>1.0</td>\n",
       "      <td>1.0</td>\n",
       "      <td>1.0</td>\n",
       "      <td>1.0</td>\n",
       "      <td>3.0</td>\n",
       "      <td>3.0</td>\n",
       "      <td>1.0</td>\n",
       "      <td>2.0</td>\n",
       "      <td>2.0</td>\n",
       "      <td>2.0</td>\n",
       "      <td>2.0</td>\n",
       "      <td>2.0</td>\n",
       "      <td>1.0</td>\n",
       "      <td>0.0</td>\n",
       "      <td>1.0</td>\n",
       "      <td>0.0</td>\n",
       "      <td>0.0</td>\n",
       "      <td>0.0</td>\n",
       "      <td>0.0</td>\n",
       "      <td>0.0</td>\n",
       "      <td>0.0</td>\n",
       "      <td>1.0</td>\n",
       "      <td>0.0</td>\n",
       "    </tr>\n",
       "    <tr>\n",
       "      <th>3</th>\n",
       "      <td>1</td>\n",
       "      <td>53.0</td>\n",
       "      <td>489</td>\n",
       "      <td>1</td>\n",
       "      <td>4.0</td>\n",
       "      <td>0.0</td>\n",
       "      <td>0.0</td>\n",
       "      <td>0.0</td>\n",
       "      <td>2.0</td>\n",
       "      <td>4.0</td>\n",
       "      <td>1.0</td>\n",
       "      <td>2.0</td>\n",
       "      <td>2.0</td>\n",
       "      <td>0.0</td>\n",
       "      <td>5.0</td>\n",
       "      <td>2.0</td>\n",
       "      <td>0.0</td>\n",
       "      <td>5.0</td>\n",
       "      <td>2.0</td>\n",
       "      <td>10.0</td>\n",
       "      <td>4.0</td>\n",
       "      <td>2.0</td>\n",
       "      <td>1.0</td>\n",
       "      <td>2.0</td>\n",
       "      <td>1.0</td>\n",
       "      <td>2.0</td>\n",
       "      <td>1.0</td>\n",
       "      <td>3.0</td>\n",
       "      <td>1.0</td>\n",
       "      <td>2.0</td>\n",
       "      <td>1.0</td>\n",
       "      <td>1.0</td>\n",
       "      <td>1.0</td>\n",
       "      <td>2.0</td>\n",
       "      <td>1.0</td>\n",
       "      <td>1.0</td>\n",
       "      <td>1.0</td>\n",
       "      <td>1.0</td>\n",
       "      <td>1.0</td>\n",
       "      <td>1.0</td>\n",
       "      <td>1.0</td>\n",
       "      <td>3.0</td>\n",
       "      <td>1.0</td>\n",
       "      <td>4.0</td>\n",
       "      <td>4.0</td>\n",
       "      <td>2.0</td>\n",
       "      <td>2.0</td>\n",
       "      <td>0.0</td>\n",
       "      <td>0.0</td>\n",
       "      <td>0.0</td>\n",
       "      <td>0.0</td>\n",
       "      <td>0.0</td>\n",
       "      <td>0.0</td>\n",
       "      <td>0.0</td>\n",
       "      <td>0.0</td>\n",
       "      <td>1.0</td>\n",
       "      <td>0.0</td>\n",
       "    </tr>\n",
       "    <tr>\n",
       "      <th>4</th>\n",
       "      <td>1</td>\n",
       "      <td>57.0</td>\n",
       "      <td>1244</td>\n",
       "      <td>1</td>\n",
       "      <td>3.0</td>\n",
       "      <td>0.0</td>\n",
       "      <td>0.0</td>\n",
       "      <td>0.0</td>\n",
       "      <td>0.0</td>\n",
       "      <td>4.0</td>\n",
       "      <td>4.0</td>\n",
       "      <td>2.0</td>\n",
       "      <td>2.0</td>\n",
       "      <td>0.0</td>\n",
       "      <td>5.0</td>\n",
       "      <td>2.0</td>\n",
       "      <td>0.0</td>\n",
       "      <td>5.0</td>\n",
       "      <td>2.0</td>\n",
       "      <td>20.0</td>\n",
       "      <td>1.0</td>\n",
       "      <td>4.0</td>\n",
       "      <td>4.0</td>\n",
       "      <td>4.0</td>\n",
       "      <td>1.0</td>\n",
       "      <td>1.0</td>\n",
       "      <td>4.0</td>\n",
       "      <td>4.0</td>\n",
       "      <td>1.0</td>\n",
       "      <td>1.0</td>\n",
       "      <td>1.0</td>\n",
       "      <td>1.0</td>\n",
       "      <td>4.0</td>\n",
       "      <td>1.0</td>\n",
       "      <td>4.0</td>\n",
       "      <td>1.0</td>\n",
       "      <td>1.0</td>\n",
       "      <td>4.0</td>\n",
       "      <td>2.0</td>\n",
       "      <td>2.0</td>\n",
       "      <td>1.0</td>\n",
       "      <td>2.0</td>\n",
       "      <td>2.0</td>\n",
       "      <td>1.0</td>\n",
       "      <td>6.0</td>\n",
       "      <td>1.0</td>\n",
       "      <td>1.0</td>\n",
       "      <td>0.0</td>\n",
       "      <td>1.0</td>\n",
       "      <td>1.0</td>\n",
       "      <td>1.0</td>\n",
       "      <td>1.0</td>\n",
       "      <td>1.0</td>\n",
       "      <td>0.0</td>\n",
       "      <td>0.0</td>\n",
       "      <td>1.0</td>\n",
       "      <td>1.0</td>\n",
       "    </tr>\n",
       "  </tbody>\n",
       "</table>\n",
       "</div>"
      ],
      "text/plain": [
       "   Geslacht  Leeftijd  Woonplaats  Covid_result  Huishouden  \\\n",
       "0         0      46.0           1             1         4.0   \n",
       "1         1      35.0         467             1         4.0   \n",
       "2         1      65.0        1104             1         3.0   \n",
       "3         1      53.0         489             1         4.0   \n",
       "4         1      57.0        1244             1         3.0   \n",
       "\n",
       "   ThuiswonendeKinderen_0-3  ThuiswonendeKinderen_4-12  \\\n",
       "0                       0.0                        0.0   \n",
       "1                       0.0                        2.0   \n",
       "2                       0.0                        0.0   \n",
       "3                       0.0                        0.0   \n",
       "4                       0.0                        0.0   \n",
       "\n",
       "   ThuiswonendeKinderen_13-17  ThuiswonendeKinderen_18+  HoogsteOpleiding  \\\n",
       "0                         2.0                       1.0               5.0   \n",
       "1                         0.0                       0.0               4.0   \n",
       "2                         0.0                       0.0               5.0   \n",
       "3                         0.0                       2.0               4.0   \n",
       "4                         0.0                       0.0               4.0   \n",
       "\n",
       "   CruciaalBeroep  DirectContact  DirectContactMetCovid  \\\n",
       "0             1.0            2.0                    2.0   \n",
       "1             5.0            2.0                    2.0   \n",
       "2             1.0            2.0                    2.0   \n",
       "3             1.0            2.0                    2.0   \n",
       "4             4.0            2.0                    2.0   \n",
       "\n",
       "   NormaleWeek_Thuiswerken  NormaleWeek_Buitenshuiswerken  \\\n",
       "0                      1.0                            4.0   \n",
       "1                      0.0                            5.0   \n",
       "2                      0.0                            0.0   \n",
       "3                      0.0                            5.0   \n",
       "4                      0.0                            5.0   \n",
       "\n",
       "   Normaleweek_Nietwerken  CoronaWeek_Thuiswerken  CoronaWeek_Buitenshuiswerk  \\\n",
       "0                     2.0                     5.0                         0.0   \n",
       "1                     2.0                     0.0                         5.0   \n",
       "2                     5.0                     0.0                         0.0   \n",
       "3                     2.0                     0.0                         5.0   \n",
       "4                     2.0                     0.0                         5.0   \n",
       "\n",
       "   CoronaWeek_Nietwerken  HoeveelPersonenContact  Klacht_Neusverkoudheid  \\\n",
       "0                    2.0                     0.0                     1.0   \n",
       "1                    2.0                    30.0                     1.0   \n",
       "2                    5.0                     0.0                     2.0   \n",
       "3                    2.0                    10.0                     4.0   \n",
       "4                    2.0                    20.0                     1.0   \n",
       "\n",
       "   Klacht_Keelpijn  Klacht_DrogeHoest  Klacht_Vermoedheid  Klacht_SlijmHoest  \\\n",
       "0              1.0                5.0                 5.0                3.0   \n",
       "1              1.0                2.0                 1.0                2.0   \n",
       "2              1.0                2.0                 1.0                2.0   \n",
       "3              2.0                1.0                 2.0                1.0   \n",
       "4              4.0                4.0                 4.0                1.0   \n",
       "\n",
       "   Klacht_SpierGewrichtspijn  Klacht_Hoofdpijn  Klacht_Koorts  \\\n",
       "0                        3.0               2.0            5.0   \n",
       "1                        1.0               1.0            1.0   \n",
       "2                        1.0               1.0            1.0   \n",
       "3                        2.0               1.0            3.0   \n",
       "4                        1.0               4.0            4.0   \n",
       "\n",
       "   Klacht_Kortademig  Klacht_Diarree  Klacht_Misselijkheid  Klacht_Overgeven  \\\n",
       "0                4.0             1.0                   1.0               1.0   \n",
       "1                1.0             1.0                   1.0               1.0   \n",
       "2                2.0             1.0                   1.0               1.0   \n",
       "3                1.0             2.0                   1.0               1.0   \n",
       "4                1.0             1.0                   1.0               1.0   \n",
       "\n",
       "   Klacht_Rillingen  Klacht_Niezen  Klacht_Huiduitslag  Klacht_Verward  \\\n",
       "0               5.0            2.0                 1.0             1.0   \n",
       "1               1.0            1.0                 4.0             1.0   \n",
       "2               1.0            2.0                 1.0             1.0   \n",
       "3               1.0            2.0                 1.0             1.0   \n",
       "4               4.0            1.0                 4.0             1.0   \n",
       "\n",
       "   Klacht_VerslapteSpieren  Klacht_GeenReukSmaak  RIVM_HandenWassen  \\\n",
       "0                      2.0                   5.0                2.0   \n",
       "1                      1.0                   5.0                1.0   \n",
       "2                      1.0                   1.0                3.0   \n",
       "3                      1.0                   1.0                1.0   \n",
       "4                      1.0                   4.0                2.0   \n",
       "\n",
       "   RIVM_GrondigHandenWassen  RIVM_GeenHandenSchudden  RIVM_PapierZakdoek  \\\n",
       "0                       2.0                      1.0                 1.0   \n",
       "1                       1.0                      1.0                 1.0   \n",
       "2                       3.0                      1.0                 2.0   \n",
       "3                       1.0                      1.0                 3.0   \n",
       "4                       2.0                      1.0                 2.0   \n",
       "\n",
       "   RIVM_Elleboog  RIVM_ThuisblijvenSymptomen  RIVM_Thuiswerken  \\\n",
       "0            1.0                         1.0               1.0   \n",
       "1            4.0                         4.0               6.0   \n",
       "2            2.0                         2.0               2.0   \n",
       "3            1.0                         4.0               4.0   \n",
       "4            2.0                         1.0               6.0   \n",
       "\n",
       "   RIVM_1.5mAfstand  RIVM_VermijdenGroepen  Extra_Niets  \\\n",
       "0               2.0                    1.0          0.0   \n",
       "1               2.0                    4.0          0.0   \n",
       "2               2.0                    1.0          0.0   \n",
       "3               2.0                    2.0          0.0   \n",
       "4               1.0                    1.0          0.0   \n",
       "\n",
       "   Extra_OpenbaarVermijden  Extra_WinkelsVermijden  Extra_Schoonmaak  \\\n",
       "0                      1.0                     0.0               0.0   \n",
       "1                      0.0                     0.0               0.0   \n",
       "2                      1.0                     0.0               0.0   \n",
       "3                      0.0                     0.0               0.0   \n",
       "4                      1.0                     1.0               1.0   \n",
       "\n",
       "   Extra_DesinfectieGebruik  Extra_DesinfectieGelDragen  Extra_Gezichtsmasker  \\\n",
       "0                       0.0                         0.0                   0.0   \n",
       "1                       0.0                         0.0                   0.0   \n",
       "2                       0.0                         0.0                   0.0   \n",
       "3                       0.0                         0.0                   0.0   \n",
       "4                       1.0                         1.0                   0.0   \n",
       "\n",
       "   Extra_Supplementen  Extra_ContactMinimaliseren  Extra_GezondEten  \n",
       "0                 0.0                         1.0               0.0  \n",
       "1                 0.0                         0.0               0.0  \n",
       "2                 0.0                         1.0               0.0  \n",
       "3                 0.0                         1.0               0.0  \n",
       "4                 0.0                         1.0               1.0  "
      ]
     },
     "execution_count": 4,
     "metadata": {},
     "output_type": "execute_result"
    }
   ],
   "source": [
    "waves.head()"
   ]
  },
  {
   "cell_type": "markdown",
   "metadata": {},
   "source": [
    "## Household situation"
   ]
  },
  {
   "cell_type": "code",
   "execution_count": 49,
   "metadata": {},
   "outputs": [
    {
     "data": {
      "image/png": "[encoded data removed]",
      "text/plain": [
       "<Figure size 432x288 with 1 Axes>"
      ]
     },
     "metadata": {
      "needs_background": "light"
     },
     "output_type": "display_data"
    }
   ],
   "source": [
    "household = waves['Huishouden'].value_counts(sort=True).plot(kind='bar', color=('#ff7900'))\n",
    "values = ['Met echtgenoot/-note of partner(3)','Met echtgenoot/-note of partner en kind(eren)(4)', 'Alleenstaand(1)', 'Alleenstaand met kind(eren)(2)',\n",
    "          'Inwonend bij ouders/familie/kennissen(5)','Als student in studentenhuis/met huisgenoten(6)','Anders(7)']\n",
    "#plt.xlabel('Household situation')\n",
    "plt.ylabel('Count')\n",
    "plt.title('Household situation')\n",
    "\n",
    "#vage omweg om de x tick labels te veranderen\n",
    "ax = plt.gca()\n",
    "ax.set_xticklabels(values, rotation=40,horizontalalignment='right')\n",
    "\n",
    "plt.savefig('Household situation.png', bbox_inches='tight', dpi=150)"
   ]
  },
  {
   "cell_type": "markdown",
   "metadata": {},
   "source": [
    "## Household situation vs covid result"
   ]
  },
  {
   "cell_type": "code",
   "execution_count": 7,
   "metadata": {},
   "outputs": [
    {
     "data": {
      "image/png": "[encoded data removed]",
      "text/plain": [
       "<Figure size 720x432 with 1 Axes>"
      ]
     },
     "metadata": {
      "needs_background": "light"
     },
     "output_type": "display_data"
    }
   ],
   "source": [
    "%matplotlib inline\n",
    "#household = waves['Huishouden'].value_counts(sort=True).plot(kind='bar', color=('#ff7900'))\n",
    "#values = ['Met echtgenoot/-note of partner(3)','Met echtgenoot/-note of partner en kind(eren)(4)', 'Alleenstaand(1)', 'Alleenstaand met kind(eren)(2)',\n",
    "         # 'Inwonend bij ouders/familie/kennissen(5)','Als student in studentenhuis/met huisgenoten(6)','Anders(7)']\n",
    "\n",
    "#vage omweg om de x tick labels te veranderen\n",
    "#ax = plt.gca()\n",
    "#ax.set_xticklabels(values, rotation=90)\n",
    "\n",
    "\n",
    "household_result = pd.crosstab(waves['Huishouden'], waves['Covid_result']).plot(kind='bar', color=('#8c4a5b','#ff7900'), figsize=(10,6))\n",
    "values = ['Alleenstaand','Alleenstaand met kind(eren)','Met echtgenoot/-note of partner','Met echtgenoot/-note of partner en kind(eren)','Inwonend bij ouders/familie/kennissen','Als student in studentenhuis/met huisgenoten','Anders']\n",
    "ax = plt.gca()\n",
    "ax.set_xticklabels(values, rotation=30, horizontalalignment='right')\n",
    "\n",
    "plt.xlabel('')\n",
    "plt.ylabel('Count')\n",
    "plt.title('Household Situation Divided by Covid Result')\n",
    "plt.legend(['Negative','Positive'])\n",
    "\n",
    "\n",
    "tikz.save(\"Household situation divided by covid result.tex\")\n",
    "\n",
    "#plt.savefig('Household situation divided by covid result.png', bbox_inches='tight', dpi=150)\n",
    "\n"
   ]
  },
  {
   "cell_type": "markdown",
   "metadata": {},
   "source": [
    "## Highest education"
   ]
  },
  {
   "cell_type": "code",
   "execution_count": 6,
   "metadata": {},
   "outputs": [
    {
     "data": {
      "text/plain": [
       "5.000000    3593\n",
       "4.000000    3189\n",
       "6.000000    1842\n",
       "3.000000    1435\n",
       "2.000000      72\n",
       "1.000000      21\n",
       "4.555063      14\n",
       "Name: HoogsteOpleiding, dtype: int64"
      ]
     },
     "execution_count": 6,
     "metadata": {},
     "output_type": "execute_result"
    }
   ],
   "source": [
    "waves['HoogsteOpleiding'].value_counts()"
   ]
  },
  {
   "cell_type": "code",
   "execution_count": 7,
   "metadata": {},
   "outputs": [
    {
     "data": {
      "text/html": [
       "<div>\n",
       "<style scoped>\n",
       "    .dataframe tbody tr th:only-of-type {\n",
       "        vertical-align: middle;\n",
       "    }\n",
       "\n",
       "    .dataframe tbody tr th {\n",
       "        vertical-align: top;\n",
       "    }\n",
       "\n",
       "    .dataframe thead th {\n",
       "        text-align: right;\n",
       "    }\n",
       "</style>\n",
       "<table border=\"1\" class=\"dataframe\">\n",
       "  <thead>\n",
       "    <tr style=\"text-align: right;\">\n",
       "      <th></th>\n",
       "      <th>KeyID</th>\n",
       "      <th>Geslacht</th>\n",
       "      <th>Leeftijd</th>\n",
       "      <th>Woonplaats</th>\n",
       "      <th>Invuldatum</th>\n",
       "      <th>Donatiedatum</th>\n",
       "      <th>OD.CO</th>\n",
       "      <th>Covid_result</th>\n",
       "      <th>Huishouden</th>\n",
       "      <th>ThuiswonendeKinderen_0-3</th>\n",
       "      <th>ThuiswonendeKinderen_4-12</th>\n",
       "      <th>ThuiswonendeKinderen_13-17</th>\n",
       "      <th>ThuiswonendeKinderen_18+</th>\n",
       "      <th>HoogsteOpleiding</th>\n",
       "      <th>CruciaalBeroep</th>\n",
       "      <th>DirectContact</th>\n",
       "      <th>DirectContactMetCovid</th>\n",
       "      <th>CoronaWeek_Thuiswerken</th>\n",
       "      <th>CoronaWeek_Buitenshuiswerk</th>\n",
       "      <th>CoronaWeek_Nietwerken</th>\n",
       "      <th>HoeveelPersonenContact</th>\n",
       "      <th>Klacht_Neusverkoudheid</th>\n",
       "      <th>Klacht_Keelpijn</th>\n",
       "      <th>Klacht_DrogeHoest</th>\n",
       "      <th>Klacht_Vermoedheid</th>\n",
       "      <th>Klacht_SlijmHoest</th>\n",
       "      <th>Klacht_SpierGewrichtspijn</th>\n",
       "      <th>Klacht_Hoofdpijn</th>\n",
       "      <th>Klacht_Koorts</th>\n",
       "      <th>Klacht_Kortademig</th>\n",
       "      <th>Klacht_Diarree</th>\n",
       "      <th>Klacht_Misselijkheid</th>\n",
       "      <th>Klacht_Overgeven</th>\n",
       "      <th>Klacht_Rillingen</th>\n",
       "      <th>Klacht_Niezen</th>\n",
       "      <th>Klacht_Huiduitslag</th>\n",
       "      <th>Klacht_Verward</th>\n",
       "      <th>Klacht_VerslapteSpieren</th>\n",
       "      <th>Klacht_GeenReukSmaak</th>\n",
       "      <th>RIVM_HandenWassen</th>\n",
       "      <th>RIVM_GrondigHandenWassen</th>\n",
       "      <th>RIVM_GeenHandenSchudden</th>\n",
       "      <th>RIVM_PapierZakdoek</th>\n",
       "      <th>RIVM_Elleboog</th>\n",
       "      <th>RIVM_ThuisblijvenSymptomen</th>\n",
       "      <th>RIVM_Thuiswerken</th>\n",
       "      <th>RIVM_1.5mAfstand</th>\n",
       "      <th>RIVM_VermijdenGroepen</th>\n",
       "      <th>Extra_Niets</th>\n",
       "      <th>Extra_OpenbaarVermijden</th>\n",
       "      <th>Extra_WinkelsVermijden</th>\n",
       "      <th>Extra_Schoonmaak</th>\n",
       "      <th>Extra_DesinfectieGebruik</th>\n",
       "      <th>Extra_DesinfectieGelDragen</th>\n",
       "      <th>Extra_Gezichtsmasker</th>\n",
       "      <th>Extra_Supplementen</th>\n",
       "      <th>Extra_ContactMinimaliseren</th>\n",
       "      <th>Extra_GezondEten</th>\n",
       "    </tr>\n",
       "  </thead>\n",
       "  <tbody>\n",
       "  </tbody>\n",
       "</table>\n",
       "</div>"
      ],
      "text/plain": [
       "Empty DataFrame\n",
       "Columns: [KeyID, Geslacht, Leeftijd, Woonplaats, Invuldatum, Donatiedatum, OD.CO, Covid_result, Huishouden, ThuiswonendeKinderen_0-3, ThuiswonendeKinderen_4-12, ThuiswonendeKinderen_13-17, ThuiswonendeKinderen_18+, HoogsteOpleiding, CruciaalBeroep, DirectContact, DirectContactMetCovid, CoronaWeek_Thuiswerken, CoronaWeek_Buitenshuiswerk, CoronaWeek_Nietwerken, HoeveelPersonenContact, Klacht_Neusverkoudheid, Klacht_Keelpijn, Klacht_DrogeHoest, Klacht_Vermoedheid, Klacht_SlijmHoest, Klacht_SpierGewrichtspijn, Klacht_Hoofdpijn, Klacht_Koorts, Klacht_Kortademig, Klacht_Diarree, Klacht_Misselijkheid, Klacht_Overgeven, Klacht_Rillingen, Klacht_Niezen, Klacht_Huiduitslag, Klacht_Verward, Klacht_VerslapteSpieren, Klacht_GeenReukSmaak, RIVM_HandenWassen, RIVM_GrondigHandenWassen, RIVM_GeenHandenSchudden, RIVM_PapierZakdoek, RIVM_Elleboog, RIVM_ThuisblijvenSymptomen, RIVM_Thuiswerken, RIVM_1.5mAfstand, RIVM_VermijdenGroepen, Extra_Niets, Extra_OpenbaarVermijden, Extra_WinkelsVermijden, Extra_Schoonmaak, Extra_DesinfectieGebruik, Extra_DesinfectieGelDragen, Extra_Gezichtsmasker, Extra_Supplementen, Extra_ContactMinimaliseren, Extra_GezondEten]\n",
       "Index: []"
      ]
     },
     "execution_count": 7,
     "metadata": {},
     "output_type": "execute_result"
    }
   ],
   "source": [
    "waves[(waves.HoogsteOpleiding == 1.0) & (waves.HoogsteOpleiding == 2)]"
   ]
  },
  {
   "cell_type": "code",
   "execution_count": 8,
   "metadata": {},
   "outputs": [
    {
     "name": "stderr",
     "output_type": "stream",
     "text": [
      "/Applications/anaconda3/lib/python3.8/site-packages/pandas/core/ops/array_ops.py:253: FutureWarning: elementwise comparison failed; returning scalar instead, but in the future will perform elementwise comparison\n",
      "  res_values = method(rvalues)\n"
     ]
    }
   ],
   "source": [
    "waves.drop(waves.loc[waves['HoogsteOpleiding']=='4.555063'].index, inplace=True)"
   ]
  },
  {
   "cell_type": "code",
   "execution_count": 28,
   "metadata": {},
   "outputs": [
    {
     "data": {
      "text/plain": [
       "0    5268\n",
       "1    4884\n",
       "Name: Geslacht, dtype: int64"
      ]
     },
     "execution_count": 28,
     "metadata": {},
     "output_type": "execute_result"
    }
   ],
   "source": [
    "waves['Geslacht'].value_counts()"
   ]
  },
  {
   "cell_type": "code",
   "execution_count": 8,
   "metadata": {},
   "outputs": [
    {
     "data": {
      "text/plain": [
       "Text(0.5, 1.0, 'Highest education')"
      ]
     },
     "execution_count": 8,
     "metadata": {},
     "output_type": "execute_result"
    },
    {
     "data": {
      "image/png": "[encoded data removed]",
      "text/plain": [
       "<Figure size 432x288 with 1 Axes>"
      ]
     },
     "metadata": {
      "needs_background": "light"
     },
     "output_type": "display_data"
    }
   ],
   "source": [
    "waves['HoogsteOpleiding'].value_counts().plot(kind='bar', color=('#ff7900'))\n",
    "#values = ['Geen', 'Lagere school (basisonderwijs)','Middelbare school','Beroepsopleiding(MBO)','HBO','Universiteit']\n",
    "\n",
    "#vage omweg om de x tick labels te veranderen\n",
    "#ax = plt.gca()\n",
    "#ax.set_xticklabels(values, rotation=90)\n",
    "\n",
    "#labels\n",
    "plt.ylabel('Count')\n",
    "plt.title('Highest education')"
   ]
  },
  {
   "cell_type": "markdown",
   "metadata": {},
   "source": [
    "## Gender distribution"
   ]
  },
  {
   "cell_type": "code",
   "execution_count": 38,
   "metadata": {},
   "outputs": [
    {
     "data": {
      "image/png": "[encoded data removed]",
      "text/plain": [
       "<Figure size 360x360 with 1 Axes>"
      ]
     },
     "metadata": {
      "needs_background": "light"
     },
     "output_type": "display_data"
    }
   ],
   "source": [
    "gender = waves['Geslacht'].value_counts().plot(kind='bar', figsize=(5,5), color=('#8c4a5b','#ff7900'))\n",
    "#gender.plot(kind='bar', figsize=(5,5))\n",
    "#plt.legend(['Male','Female'])\n",
    "plt.xlabel('Gender')\n",
    "plt.ylabel('Count')\n",
    "plt.title('Distribution of Donor Gender')\n",
    "#plt.legend(['Male','Female'])\n",
    "locs, labels=plt.xticks()\n",
    "labels = ['Male', 'Female']\n",
    "plt.xticks(locs, labels = labels, rotation = 'vertical')\n",
    "\n",
    "plt.savefig('Distribution of Donor Gender.png', bbox_inches='tight', dpi=150)\n",
    "\n",
    "#labels = ['high', 'low', 37337]\n",
    "#plt.plot(x,y, 'r')\n",
    "#plt.xticks(x, labels, rotation='vertical')\n",
    "#plt.show()"
   ]
  },
  {
   "cell_type": "markdown",
   "metadata": {},
   "source": [
    "## Covid Result, grouped by gender"
   ]
  },
  {
   "cell_type": "code",
   "execution_count": 10,
   "metadata": {},
   "outputs": [
    {
     "name": "stdout",
     "output_type": "stream",
     "text": [
      "Collecting tikzplotlib\n",
      "  Downloading tikzplotlib-0.9.8-py3-none-any.whl (53 kB)\n",
      "\u001b[K     |████████████████████████████████| 53 kB 2.6 MB/s eta 0:00:011\n",
      "\u001b[?25hRequirement already satisfied: matplotlib>=1.4.0 in /Applications/anaconda3/lib/python3.8/site-packages (from tikzplotlib) (3.2.2)\n",
      "Requirement already satisfied: numpy in /Applications/anaconda3/lib/python3.8/site-packages (from tikzplotlib) (1.19.5)\n",
      "Requirement already satisfied: Pillow in /Applications/anaconda3/lib/python3.8/site-packages (from tikzplotlib) (7.2.0)\n",
      "Requirement already satisfied: python-dateutil>=2.1 in /Applications/anaconda3/lib/python3.8/site-packages (from matplotlib>=1.4.0->tikzplotlib) (2.8.1)\n",
      "Requirement already satisfied: pyparsing!=2.0.4,!=2.1.2,!=2.1.6,>=2.0.1 in /Applications/anaconda3/lib/python3.8/site-packages (from matplotlib>=1.4.0->tikzplotlib) (2.4.7)\n",
      "Requirement already satisfied: cycler>=0.10 in /Applications/anaconda3/lib/python3.8/site-packages (from matplotlib>=1.4.0->tikzplotlib) (0.10.0)\n",
      "Requirement already satisfied: kiwisolver>=1.0.1 in /Applications/anaconda3/lib/python3.8/site-packages (from matplotlib>=1.4.0->tikzplotlib) (1.2.0)\n",
      "Requirement already satisfied: six>=1.5 in /Applications/anaconda3/lib/python3.8/site-packages (from python-dateutil>=2.1->matplotlib>=1.4.0->tikzplotlib) (1.15.0)\n",
      "Installing collected packages: tikzplotlib\n",
      "Successfully installed tikzplotlib-0.9.8\n"
     ]
    }
   ],
   "source": [
    "!pip install tikzplotlib --user"
   ]
  },
  {
   "cell_type": "code",
   "execution_count": 5,
   "metadata": {},
   "outputs": [
    {
     "data": {
      "image/png": "[encoded data removed]",
      "text/plain": [
       "<Figure size 360x360 with 1 Axes>"
      ]
     },
     "metadata": {
      "needs_background": "light"
     },
     "output_type": "display_data"
    }
   ],
   "source": [
    "result_gender = pd.crosstab(waves['Covid_result'], waves['Geslacht']).plot(kind='bar', figsize=(5,5), color=('#8c4a5b','#ff7900'))\n",
    "\n",
    "plt.xlabel('Covid Result')\n",
    "plt.ylabel('Count')\n",
    "#plt.title('Distribution of Covid Result, grouped by gender')\n",
    "plt.legend(['Female','Male'])\n",
    "locs, labels=plt.xticks()\n",
    "labels = ['Negative', 'Positive']\n",
    "plt.xticks(locs, labels = labels, rotation = 'horizontal')\n",
    "\n",
    "tikz.save(\"Gender distribution divided by covid result.tex\")\n",
    "plt.savefig('Gender distribution divided by covid result', bbox_inches='tight', dpi=150)"
   ]
  },
  {
   "cell_type": "code",
   "execution_count": 25,
   "metadata": {},
   "outputs": [
    {
     "data": {
      "text/plain": [
       "1    5253\n",
       "0    4864\n",
       "Name: Geslacht, dtype: int64"
      ]
     },
     "execution_count": 25,
     "metadata": {},
     "output_type": "execute_result"
    }
   ],
   "source": [
    "waves['Geslacht'].value_counts()\n",
    "#1 = male"
   ]
  },
  {
   "cell_type": "code",
   "execution_count": 28,
   "metadata": {},
   "outputs": [
    {
     "data": {
      "text/plain": [
       "10117"
      ]
     },
     "execution_count": 28,
     "metadata": {},
     "output_type": "execute_result"
    }
   ],
   "source": [
    "5253+4864"
   ]
  },
  {
   "cell_type": "code",
   "execution_count": 29,
   "metadata": {},
   "outputs": [
    {
     "data": {
      "text/plain": [
       "51.744588316694674"
      ]
     },
     "execution_count": 29,
     "metadata": {},
     "output_type": "execute_result"
    }
   ],
   "source": [
    "5235/10117*100"
   ]
  },
  {
   "cell_type": "code",
   "execution_count": 30,
   "metadata": {},
   "outputs": [
    {
     "data": {
      "text/plain": [
       "48.07749332806168"
      ]
     },
     "execution_count": 30,
     "metadata": {},
     "output_type": "execute_result"
    }
   ],
   "source": [
    "4864/10117*100"
   ]
  },
  {
   "cell_type": "code",
   "execution_count": 26,
   "metadata": {},
   "outputs": [
    {
     "data": {
      "text/plain": [
       "Covid_result  Geslacht\n",
       "0             1           4626\n",
       "              0           4005\n",
       "1             0            859\n",
       "              1            627\n",
       "Name: Geslacht, dtype: int64"
      ]
     },
     "execution_count": 26,
     "metadata": {},
     "output_type": "execute_result"
    }
   ],
   "source": [
    "waves.groupby('Covid_result')['Geslacht'].value_counts()"
   ]
  },
  {
   "cell_type": "markdown",
   "metadata": {},
   "source": [
    "## Covid Result"
   ]
  },
  {
   "cell_type": "code",
   "execution_count": 15,
   "metadata": {},
   "outputs": [
    {
     "data": {
      "text/plain": [
       "85.30395435766279"
      ]
     },
     "execution_count": 15,
     "metadata": {},
     "output_type": "execute_result"
    }
   ],
   "source": [
    "(8672/(8672+1494))*100"
   ]
  },
  {
   "cell_type": "code",
   "execution_count": 16,
   "metadata": {},
   "outputs": [
    {
     "data": {
      "text/plain": [
       "14.696045642337202"
      ]
     },
     "execution_count": 16,
     "metadata": {},
     "output_type": "execute_result"
    }
   ],
   "source": [
    "(1494/(8672+1494))*100"
   ]
  },
  {
   "cell_type": "code",
   "execution_count": 19,
   "metadata": {},
   "outputs": [
    {
     "data": {
      "text/plain": [
       "6.804551539491299"
      ]
     },
     "execution_count": 19,
     "metadata": {},
     "output_type": "execute_result"
    }
   ],
   "source": [
    "(8672+1494)/1494"
   ]
  },
  {
   "cell_type": "code",
   "execution_count": 12,
   "metadata": {},
   "outputs": [
    {
     "data": {
      "text/plain": [
       "neg    8672\n",
       "pos    1494\n",
       "Name: Covid_result, dtype: int64"
      ]
     },
     "execution_count": 12,
     "metadata": {},
     "output_type": "execute_result"
    }
   ],
   "source": [
    "waves['Covid_result'].value_counts()"
   ]
  },
  {
   "cell_type": "code",
   "execution_count": 51,
   "metadata": {},
   "outputs": [
    {
     "data": {
      "image/png": "[encoded data removed]",
      "text/plain": [
       "<Figure size 360x360 with 1 Axes>"
      ]
     },
     "metadata": {
      "needs_background": "light"
     },
     "output_type": "display_data"
    }
   ],
   "source": [
    "gender = waves['Covid_result'].value_counts().plot(kind='bar', figsize=(5,5), color=('#8c4a5b','#ff7900'))\n",
    "#gender.plot(kind='bar', figsize=(5,5))\n",
    "#plt.legend(['Male','Female'])\n",
    "plt.xlabel('Result')\n",
    "plt.ylabel('Count')\n",
    "plt.title('Distribution of antibodies result')\n",
    "plt.savefig('distribution_antibodies.png')"
   ]
  },
  {
   "cell_type": "code",
   "execution_count": 54,
   "metadata": {},
   "outputs": [
    {
     "data": {
      "image/png": "[encoded data removed]",
      "text/plain": [
       "<Figure size 432x432 with 1 Axes>"
      ]
     },
     "metadata": {},
     "output_type": "display_data"
    }
   ],
   "source": [
    "waves[\"Covid_result\"].value_counts().plot(kind = 'pie',explode=[0, 0.1],figsize=(6, 6),autopct='%1.1f%%',shadow=True)\n",
    "plt.title(\"'Distribution of antibodies result\",)\n",
    "plt.legend([\"Negative\", \"Positive\"])\n",
    "plt.show()"
   ]
  },
  {
   "cell_type": "markdown",
   "metadata": {},
   "source": [
    "## Age distribution"
   ]
  },
  {
   "cell_type": "code",
   "execution_count": 19,
   "metadata": {},
   "outputs": [
    {
     "data": {
      "image/png": "[encoded data removed]",
      "text/plain": [
       "<Figure size 1440x720 with 1 Axes>"
      ]
     },
     "metadata": {
      "needs_background": "light"
     },
     "output_type": "display_data"
    }
   ],
   "source": [
    "#change the type to integer so it shows only integer numbers on the axis\n",
    "waves['Leeftijd'] = waves['Leeftijd'].astype(np.int64)\n",
    "\n",
    "#plot\n",
    "waves['Leeftijd'].value_counts().sort_index(ascending=True).plot(kind='bar', figsize=(20,10), color='#ff7900')\n",
    "\n",
    "plt.xlabel('Age', fontsize=18)\n",
    "plt.ylabel('Count', fontsize=18)\n",
    "#plt.title('Distribution of donor age')\n",
    "\n",
    "tikz.save(\"Age distribution donors.tex\", axis_height='11cm', axis_width= '21cm')\n",
    "\n",
    "\n",
    "#plt.savefig('Age distribution.png')"
   ]
  },
  {
   "cell_type": "code",
   "execution_count": 31,
   "metadata": {},
   "outputs": [
    {
     "data": {
      "text/plain": [
       "count    10117.000000\n",
       "mean        50.082831\n",
       "std         14.154805\n",
       "min         18.000000\n",
       "25%         40.000000\n",
       "50%         53.000000\n",
       "75%         62.000000\n",
       "max         73.000000\n",
       "Name: Leeftijd, dtype: float64"
      ]
     },
     "execution_count": 31,
     "metadata": {},
     "output_type": "execute_result"
    }
   ],
   "source": [
    "waves['Leeftijd'].describe()"
   ]
  },
  {
   "cell_type": "code",
   "execution_count": null,
   "metadata": {},
   "outputs": [],
   "source": [
    "# Example for thesis PR curve\n",
    "import scipy\n",
    "from scipy.interpolate import BSpline, make_interp_spline\n",
    "\n",
    "\n",
    "x = np.array([0, .25, .50, .70, .80, 1])\n",
    "y = np.array([1, .9, .88, .83, .80, 0])\n",
    "\n",
    "x_neww = np.linspace(0,1,300)\n",
    "a_BSplinee = scipy.interpolate.make_interp_spline(x,y)\n",
    "y_neww = a_BSplinee(x_neww)\n",
    "\n",
    "plt.figure(figsize=(8,8))\n",
    "plt.plot(x_neww,y_neww)\n",
    "\n",
    "plt.xlabel('Recall')\n",
    "plt.ylabel('Precision')\n",
    "plt.title('Precision Recall Curve')\n",
    "\n",
    "x_cor = [0,1]\n",
    "y_cor = [0.15,0.15]\n",
    "\n",
    "plt.plot(x_cor,y_cor, linestyle='--', label='Baseline=0.15')\n",
    "\n",
    "plt.savefig('Precision Recall Curve Example.png', bbox_inches='tight', dpi=150)\n",
    "\n",
    "\n",
    "plt.show()"
   ]
  },
  {
   "cell_type": "markdown",
   "metadata": {},
   "source": [
    "## Donation date"
   ]
  },
  {
   "cell_type": "code",
   "execution_count": 35,
   "metadata": {},
   "outputs": [
    {
     "data": {
      "text/plain": [
       "Text(0.5, 1.0, 'Distribution of donation date')"
      ]
     },
     "execution_count": 35,
     "metadata": {},
     "output_type": "execute_result"
    },
    {
     "data": {
      "image/png": "[encoded data removed]",
      "text/plain": [
       "<Figure size 720x720 with 1 Axes>"
      ]
     },
     "metadata": {
      "needs_background": "light"
     },
     "output_type": "display_data"
    }
   ],
   "source": [
    "#plot\n",
    "waves['Donatiedatum'].value_counts().sort_index(ascending=True).plot(kind='bar', figsize=(10,10), color='#ff7900')\n",
    "\n",
    "plt.xlabel('Date')\n",
    "plt.ylabel('Count')\n",
    "plt.title('Distribution of donation date')"
   ]
  },
  {
   "cell_type": "code",
   "execution_count": 90,
   "metadata": {},
   "outputs": [
    {
     "data": {
      "image/png": "[encoded data removed]",
      "text/plain": [
       "<Figure size 1080x288 with 3 Axes>"
      ]
     },
     "metadata": {
      "needs_background": "light"
     },
     "output_type": "display_data"
    }
   ],
   "source": [
    "fig, (ax1, ax2, ax3) = plt.subplots (1,3, figsize=(15,4), sharey=True, sharex=True,)\n",
    "fig.text(0.07, 0.5, 'Count', va='center', rotation='vertical', fontsize=14)\n",
    "\n",
    "\n",
    "#keelpijn\n",
    "pd.value_counts(waves['Klacht_Keelpijn']).plot(kind='bar',color=('#ff7900'), ax=ax1)\n",
    "ax1.set_title(\"Sore throat\", fontsize=14)\n",
    "ax1.set_xticklabels(['Not at all','A small amount','Quite a lot', 'Very much','Very very much'])\n",
    "\n",
    "#neusverkoudheid\n",
    "pd.value_counts(waves['Klacht_Neusverkoudheid']).plot(kind='bar',color=('#ff7900'), ax=ax2)\n",
    "ax2.set_title(\"Nose cold\", fontsize=14)\n",
    "ax2.set_xticklabels(['Not at all','A small amount','Quite a lot', 'Very much','Very very much'])\n",
    "\n",
    "#geenreuksmaak\n",
    "pd.value_counts(waves['Klacht_GeenReukSmaak']).plot(kind='bar',color=('#ff7900'), ax=ax3)\n",
    "ax3.set_title(\"No smelling/tasting\", fontsize=14)\n",
    "ax3.set_xticklabels(['Not at all','A small amount','Quite a lot', 'Very much','Very very much'])\n",
    "\n",
    "tikz.save(\"Symptoms distribution.tex\")\n"
   ]
  },
  {
   "cell_type": "code",
   "execution_count": 15,
   "metadata": {},
   "outputs": [
    {
     "data": {
      "text/plain": [
       "[Text(0, 0, 'Not at all'),\n",
       " Text(0, 0, 'A small amount'),\n",
       " Text(0, 0, 'Quite a lot'),\n",
       " Text(0, 0, 'Very much'),\n",
       " Text(0, 0, 'Very very much')]"
      ]
     },
     "execution_count": 15,
     "metadata": {},
     "output_type": "execute_result"
    },
    {
     "data": {
      "image/png": "[encoded data removed]",
      "text/plain": [
       "<Figure size 360x360 with 1 Axes>"
      ]
     },
     "metadata": {
      "needs_background": "light"
     },
     "output_type": "display_data"
    }
   ],
   "source": [
    "household = waves['Klacht_Neusverkoudheid'].value_counts().plot(kind='bar', figsize=(5,5), color=('#ff7900'))\n",
    "values = ['Not at all','A small amount','Quite a lot', 'Very much','Very very much']\n",
    "plt.xlabel('Household situation')\n",
    "plt.ylabel('Count')\n",
    "plt.title('Distribution of people with symptom: nose cold')\n",
    "\n",
    "#vage omweg om de x tick labels te veranderen\n",
    "ax = plt.gca()\n",
    "ax.set_xticklabels(values, rotation=90)"
   ]
  },
  {
   "cell_type": "code",
   "execution_count": null,
   "metadata": {},
   "outputs": [],
   "source": [
    "fig, axs = plt.subplots(3) \n",
    "fig.suptitle('Symptoms')\n",
    "axs[0].plot"
   ]
  },
  {
   "cell_type": "code",
   "execution_count": 14,
   "metadata": {},
   "outputs": [
    {
     "data": {
      "text/plain": [
       "[Text(0, 0, 'Not at all'),\n",
       " Text(0, 0, 'A small amount'),\n",
       " Text(0, 0, 'Quite a lot'),\n",
       " Text(0, 0, 'Very much'),\n",
       " Text(0, 0, 'Very very much')]"
      ]
     },
     "execution_count": 14,
     "metadata": {},
     "output_type": "execute_result"
    },
    {
     "data": {
      "image/png": "[encoded data removed]",
      "text/plain": [
       "<Figure size 360x360 with 1 Axes>"
      ]
     },
     "metadata": {
      "needs_background": "light"
     },
     "output_type": "display_data"
    }
   ],
   "source": [
    "household = waves['Klacht_Keelpijn'].value_counts().plot(kind='bar', figsize=(5,5), color=('#ff7900'))\n",
    "values = ['Not at all','A small amount','Quite a lot', 'Very much','Very very much']\n",
    "plt.xlabel('Household situation')\n",
    "plt.ylabel('Count')\n",
    "plt.title('Distribution of people with symptom: nose cold')\n",
    "\n",
    "#vage omweg om de x tick labels te veranderen\n",
    "ax = plt.gca()\n",
    "ax.set_xticklabels(values, rotation=90)"
   ]
  },
  {
   "cell_type": "code",
   "execution_count": 13,
   "metadata": {},
   "outputs": [
    {
     "data": {
      "text/plain": [
       "[Text(0, 0, 'Not at all'),\n",
       " Text(0, 0, 'A small amount'),\n",
       " Text(0, 0, 'Quite a lot'),\n",
       " Text(0, 0, 'Very much'),\n",
       " Text(0, 0, 'Very very much')]"
      ]
     },
     "execution_count": 13,
     "metadata": {},
     "output_type": "execute_result"
    },
    {
     "data": {
      "image/png": "[encoded data removed]",
      "text/plain": [
       "<Figure size 360x360 with 1 Axes>"
      ]
     },
     "metadata": {
      "needs_background": "light"
     },
     "output_type": "display_data"
    }
   ],
   "source": [
    "household = waves['Klacht_GeenReukSmaak'].value_counts().plot(kind='bar', figsize=(5,5), color=('#ff7900'))\n",
    "values = ['Not at all','A small amount','Quite a lot', 'Very much','Very very much']\n",
    "plt.xlabel('Household situation')\n",
    "plt.ylabel('Count')\n",
    "plt.title('Distribution of people with symptom: No smelling')\n",
    "\n",
    "#vage omweg om de x tick labels te veranderen\n",
    "ax = plt.gca()\n",
    "ax.set_xticklabels(values, rotation=90)"
   ]
  },
  {
   "cell_type": "code",
   "execution_count": 16,
   "metadata": {},
   "outputs": [
    {
     "data": {
      "text/plain": [
       "[Text(0, 0, 'zeer strikt'),\n",
       " Text(0, 0, 'zo goed mogelijk'),\n",
       " Text(0, 0, 'een beetje'),\n",
       " Text(0, 0, 'niet echt'),\n",
       " Text(0, 0, 'helemaal niet'),\n",
       " Text(0, 0, 'niet van toepassing')]"
      ]
     },
     "execution_count": 16,
     "metadata": {},
     "output_type": "execute_result"
    },
    {
     "data": {
      "image/png": "[encoded data removed]",
      "text/plain": [
       "<Figure size 360x360 with 1 Axes>"
      ]
     },
     "metadata": {
      "needs_background": "light"
     },
     "output_type": "display_data"
    }
   ],
   "source": [
    "household = waves['RIVM_Thuiswerken'].value_counts().plot(kind='bar', figsize=(5,5), color=('#ff7900'))\n",
    "values = ['zeer strikt','zo goed mogelijk','een beetje','niet echt','helemaal niet','niet van toepassing']\n",
    "plt.xlabel('Household situation')\n",
    "plt.ylabel('Count')\n",
    "plt.title('Distribution of people working from home')\n",
    "\n",
    "#vage omweg om de x tick labels te veranderen\n",
    "ax = plt.gca()\n",
    "ax.set_xticklabels(values, rotation=90)"
   ]
  },
  {
   "cell_type": "code",
   "execution_count": 40,
   "metadata": {},
   "outputs": [
    {
     "data": {
      "text/plain": [
       "Text(0.5, 1.0, 'Distribution of people with symptom: nose cold')"
      ]
     },
     "execution_count": 40,
     "metadata": {},
     "output_type": "execute_result"
    },
    {
     "data": {
      "image/png": "[encoded data removed]",
      "text/plain": [
       "<Figure size 360x360 with 1 Axes>"
      ]
     },
     "metadata": {
      "needs_background": "light"
     },
     "output_type": "display_data"
    }
   ],
   "source": [
    "household = waves['RIVM_Thuiswerken'].sort_index(ascending=False).value_counts().plot(kind='bar', figsize=(5,5), color=('#ff7900'))\n",
    "#values = ['zeer strikt','zo goed mogelijk','een beetje','niet echt','helemaal niet','niet van toepassing']\n",
    "plt.xlabel('Household situation')\n",
    "plt.ylabel('Count')\n",
    "plt.title('Distribution of people with symptom: nose cold')\n",
    "\n",
    "#vage omweg om de x tick labels te veranderen\n",
    "#ax = plt.axes()\n",
    "#ax.set_xticklabels(values, rotation=90)"
   ]
  },
  {
   "cell_type": "markdown",
   "metadata": {},
   "source": [
    "## Amount of antibodies"
   ]
  },
  {
   "cell_type": "code",
   "execution_count": 41,
   "metadata": {},
   "outputs": [
    {
     "data": {
      "text/plain": [
       "0    20.86\n",
       "1    20.85\n",
       "2    20.85\n",
       "3    20.83\n",
       "4    20.75\n",
       "Name: OD.CO, dtype: float64"
      ]
     },
     "execution_count": 41,
     "metadata": {},
     "output_type": "execute_result"
    }
   ],
   "source": [
    "waves['OD.CO'].head()"
   ]
  },
  {
   "cell_type": "code",
   "execution_count": 42,
   "metadata": {},
   "outputs": [
    {
     "data": {
      "text/plain": [
       "Text(0.5, 1.0, 'Distribution of antibodies | Positive class')"
      ]
     },
     "execution_count": 42,
     "metadata": {},
     "output_type": "execute_result"
    },
    {
     "data": {
      "image/png": "[encoded data removed]",
      "text/plain": [
       "<Figure size 432x288 with 1 Axes>"
      ]
     },
     "metadata": {
      "needs_background": "light"
     },
     "output_type": "display_data"
    }
   ],
   "source": [
    "#make copy of dataset to not change original values\n",
    "positives = waves.copy()\n",
    "\n",
    "#only choose positives\n",
    "positives = positives[positives['OD.CO'] > 0]\n",
    "\n",
    "#round values to 1 decimal\n",
    "decimals = 1    \n",
    "positives['OD.CO'] = positives['OD.CO'].apply(lambda x: round(x, decimals))\n",
    "\n",
    "#subset again when OD.CO is > 0\n",
    "positives = positives[positives['OD.CO'] > 0]\n",
    "\n",
    "#plot\n",
    "positives['OD.CO'].value_counts().sort_index(ascending=True).plot(kind='line', color='#ff7900')\n",
    "plt.xlabel('Amount of Antibodies')\n",
    "plt.ylabel('Count')\n",
    "plt.title('Distribution of antibodies | Positive class')"
   ]
  },
  {
   "cell_type": "code",
   "execution_count": null,
   "metadata": {},
   "outputs": [],
   "source": [
    "dataset.hist(bins = 15, figsize = (15,15), xlabelsize = 0.1, ylabelsize = 0.1)\n",
    "plt.show()"
   ]
  },
  {
   "cell_type": "code",
   "execution_count": null,
   "metadata": {},
   "outputs": [],
   "source": []
  },
  {
   "cell_type": "code",
   "execution_count": null,
   "metadata": {},
   "outputs": [],
   "source": [
    "sns.catplot(x='Geslacht',hue='Covid_result',kind='count',data=dataset)"
   ]
  },
  {
   "cell_type": "code",
   "execution_count": null,
   "metadata": {},
   "outputs": [],
   "source": [
    "pd.crosstab(dataset['Huishouden'], dataset.Covid_result)\n"
   ]
  },
  {
   "cell_type": "code",
   "execution_count": null,
   "metadata": {},
   "outputs": [],
   "source": [
    "pd.crosstab(dataset['CruciaalBeroep'], dataset.Covid_result)\n"
   ]
  },
  {
   "cell_type": "code",
   "execution_count": null,
   "metadata": {},
   "outputs": [],
   "source": [
    "pd.crosstab(dataset['Klacht_Neusverkoudheid'], dataset.Covid_result)\n"
   ]
  },
  {
   "cell_type": "code",
   "execution_count": null,
   "metadata": {},
   "outputs": [],
   "source": [
    "dataset.Covid_result.value_counts(normalize=True)\n"
   ]
  },
  {
   "cell_type": "code",
   "execution_count": null,
   "metadata": {},
   "outputs": [],
   "source": [
    "colors = ['#8c4a5b','#ff7900']\n",
    "\n",
    "sns.countplot('Covid_result', data=dataset, palette=colors)\n",
    "plt.title('Covid Result', fontsize=14)"
   ]
  },
  {
   "cell_type": "code",
   "execution_count": null,
   "metadata": {},
   "outputs": [],
   "source": [
    "plt.figure(figsize=(15,15))\n",
    "sns.heatmap(dataset.corr(),square=True,annot=True,cmap= 'twilight_shifted')"
   ]
  },
  {
   "cell_type": "code",
   "execution_count": null,
   "metadata": {},
   "outputs": [],
   "source": []
  },
  {
   "cell_type": "code",
   "execution_count": null,
   "metadata": {},
   "outputs": [],
   "source": []
  },
  {
   "cell_type": "code",
   "execution_count": null,
   "metadata": {},
   "outputs": [],
   "source": []
  },
  {
   "cell_type": "code",
   "execution_count": null,
   "metadata": {},
   "outputs": [],
   "source": []
  },
  {
   "cell_type": "code",
   "execution_count": null,
   "metadata": {},
   "outputs": [],
   "source": []
  }
 ],
 "metadata": {
  "kernelspec": {
   "display_name": "Python 3",
   "language": "python",
   "name": "python3"
  },
  "language_info": {
   "codemirror_mode": {
    "name": "ipython",
    "version": 3
   },
   "file_extension": ".py",
   "mimetype": "text/x-python",
   "name": "python",
   "nbconvert_exporter": "python",
   "pygments_lexer": "ipython3",
   "version": "3.8.3"
  }
 },
 "nbformat": 4,
 "nbformat_minor": 4
}
